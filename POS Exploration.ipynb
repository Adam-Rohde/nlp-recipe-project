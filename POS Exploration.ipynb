{
 "cells": [
  {
   "cell_type": "code",
   "execution_count": 100,
   "metadata": {},
   "outputs": [],
   "source": [
    "import requests\n",
    "import pandas as pd\n",
    "from pandas import json_normalize\n",
    "import matplotlib.pyplot as plt\n",
    "import re\n",
    "import json\n",
    "from time import time\n",
    "from nltk import word_tokenize, pos_tag, Text\n",
    "from nltk.corpus import brown\n",
    "import nltk.text\n",
    "import numpy as np"
   ]
  },
  {
   "cell_type": "markdown",
   "metadata": {},
   "source": [
    "## Reading the Data"
   ]
  },
  {
   "cell_type": "code",
   "execution_count": 74,
   "metadata": {},
   "outputs": [],
   "source": [
    "with open('layer1.json') as f:\n",
    "    recipe_data = json.load(f)"
   ]
  },
  {
   "cell_type": "code",
   "execution_count": 259,
   "metadata": {},
   "outputs": [
    {
     "name": "stdout",
     "output_type": "stream",
     "text": [
      "Seconds: 177.2327663898468\n"
     ]
    }
   ],
   "source": [
    "start = time()\n",
    "\n",
    "ingredients_data = json_normalize(recipe_data,record_path='ingredients',meta=\"id\")\n",
    "\n",
    "#get the time taken\n",
    "end = time()\n",
    "print('Seconds:', end - start)"
   ]
  },
  {
   "cell_type": "code",
   "execution_count": 260,
   "metadata": {},
   "outputs": [
    {
     "data": {
      "text/html": [
       "<div>\n",
       "<style scoped>\n",
       "    .dataframe tbody tr th:only-of-type {\n",
       "        vertical-align: middle;\n",
       "    }\n",
       "\n",
       "    .dataframe tbody tr th {\n",
       "        vertical-align: top;\n",
       "    }\n",
       "\n",
       "    .dataframe thead th {\n",
       "        text-align: right;\n",
       "    }\n",
       "</style>\n",
       "<table border=\"1\" class=\"dataframe\">\n",
       "  <thead>\n",
       "    <tr style=\"text-align: right;\">\n",
       "      <th></th>\n",
       "      <th>id</th>\n",
       "      <th>text</th>\n",
       "    </tr>\n",
       "  </thead>\n",
       "  <tbody>\n",
       "    <tr>\n",
       "      <th>6112982</th>\n",
       "      <td>a2f69a1465</td>\n",
       "      <td>14 teaspoon ground cinnamon</td>\n",
       "    </tr>\n",
       "    <tr>\n",
       "      <th>1617379</th>\n",
       "      <td>2b32020665</td>\n",
       "      <td>100 g feta, crumbled</td>\n",
       "    </tr>\n",
       "    <tr>\n",
       "      <th>7827164</th>\n",
       "      <td>d073a2d20b</td>\n",
       "      <td>1 15-ounce can black beans, rinsed, drained</td>\n",
       "    </tr>\n",
       "    <tr>\n",
       "      <th>6909038</th>\n",
       "      <td>b8193e31ab</td>\n",
       "      <td>cooking spray</td>\n",
       "    </tr>\n",
       "    <tr>\n",
       "      <th>7905873</th>\n",
       "      <td>d28663f49b</td>\n",
       "      <td>2 tablespoons salt</td>\n",
       "    </tr>\n",
       "  </tbody>\n",
       "</table>\n",
       "</div>"
      ],
      "text/plain": [
       "                 id                                         text\n",
       "6112982  a2f69a1465                  14 teaspoon ground cinnamon\n",
       "1617379  2b32020665                         100 g feta, crumbled\n",
       "7827164  d073a2d20b  1 15-ounce can black beans, rinsed, drained\n",
       "6909038  b8193e31ab                                cooking spray\n",
       "7905873  d28663f49b                           2 tablespoons salt"
      ]
     },
     "execution_count": 260,
     "metadata": {},
     "output_type": "execute_result"
    }
   ],
   "source": [
    "ingredients_data.sample(5)"
   ]
  },
  {
   "cell_type": "markdown",
   "metadata": {},
   "source": [
    "## POS Tagging for Ingredients - Nouns"
   ]
  },
  {
   "cell_type": "code",
   "execution_count": 77,
   "metadata": {},
   "outputs": [],
   "source": [
    "noun_tags = ['NN', 'NNS', 'NNP', 'NNPS']\n",
    "\n",
    "def get_nouns(s):\n",
    "    \"\"\"\n",
    "    This function inputs a string and returns the words tagged as nouns\n",
    "    \"\"\"\n",
    "    text = word_tokenize(s)\n",
    "    pos_tags = pos_tag(text)\n",
    "    \n",
    "    nouns = [item[0] for item in pos_tags if item[1] in noun_tags]\n",
    "    return nouns"
   ]
  },
  {
   "cell_type": "code",
   "execution_count": 78,
   "metadata": {},
   "outputs": [],
   "source": [
    "#get random sample of 1M ingredients\n",
    "large_list_of_ingredients = ' '.join(ingredients_data.sample(1000000).text)"
   ]
  },
  {
   "cell_type": "markdown",
   "metadata": {},
   "source": [
    "### 1M ingredients took ~15 minutes for me; I think 10000 is sufficient to get a good idea"
   ]
  },
  {
   "cell_type": "code",
   "execution_count": 79,
   "metadata": {},
   "outputs": [
    {
     "name": "stdout",
     "output_type": "stream",
     "text": [
      "Seconds: 913.2231004238129\n"
     ]
    }
   ],
   "source": [
    "#get the nouns from that big list\n",
    "start = time()\n",
    "nouns = get_nouns(large_list_of_ingredients)\n",
    "end = time()\n",
    "print('Seconds:', end - start)"
   ]
  },
  {
   "cell_type": "markdown",
   "metadata": {},
   "source": [
    "## Noun Clusters"
   ]
  },
  {
   "cell_type": "code",
   "execution_count": 262,
   "metadata": {},
   "outputs": [],
   "source": [
    "#input the nouns as text so we can find similar words\n",
    "full_text = nltk.text.ContextIndex(nouns)"
   ]
  },
  {
   "cell_type": "code",
   "execution_count": 263,
   "metadata": {},
   "outputs": [
    {
     "name": "stdout",
     "output_type": "stream",
     "text": [
      "['orange', 'lemon', 'sugar', 'lime', 'butter', 'water', 'oil', 'milk', 'cream', 'onion', 'tablespoons', 'pineapple', 'flour', 'pepper', 'cup', 'wine', 'tomato', 'cups', 'teaspoon', 'parsley']\n",
      "Seconds: 0.14760446548461914\n"
     ]
    }
   ],
   "source": [
    "#for example, if we wish to find nouns similar to \"apple\"\n",
    "start = time()\n",
    "\n",
    "result = full_text.similar_words('apple')\n",
    "print(result)\n",
    "\n",
    "end = time()\n",
    "print('Seconds:', end - start)"
   ]
  },
  {
   "cell_type": "code",
   "execution_count": 264,
   "metadata": {},
   "outputs": [
    {
     "name": "stdout",
     "output_type": "stream",
     "text": [
      "['sugar', 'butter', 'water', 'cream', 'oil', 'milk', 'onion', 'wine', 'parsley', 'walnuts', 'pecans', 'rice', 'pepper', 'celery', 'cheese', 'mayonnaise', 'tablespoons', 'onions', 'teaspoon', 'cilantro']\n",
      "Seconds: 0.3840019702911377\n"
     ]
    }
   ],
   "source": [
    "#for example, if we wish to find nouns similar to \"flour\"\n",
    "start = time()\n",
    "\n",
    "result = full_text.similar_words('flour')\n",
    "print(result)\n",
    "\n",
    "end = time()\n",
    "print('Seconds:', end - start)"
   ]
  },
  {
   "cell_type": "code",
   "execution_count": 265,
   "metadata": {},
   "outputs": [],
   "source": [
    "def get_additional_cluster_memebers(full_text, seed_words, words_to_omit=[], draw_graph=False):\n",
    "    \"\"\"\n",
    "    This function inputs a list of words and some seed words.\n",
    "    It tries to find more words in the list of words that are\n",
    "    similar to the seed words so a cluster can be formed\n",
    "    \"\"\"\n",
    "    \n",
    "    num_seed_words = len(seed_words)\n",
    "    \n",
    "    #the fraction to add each time we see a similar word\n",
    "    unit_fraction = round(1/num_seed_words, 4)\n",
    "    \n",
    "    #dynamically set number of similar words to get\n",
    "    num_similar_words = 5 + len(words_to_omit)\n",
    "    \n",
    "    #this dictionary keeps track of how many times a similar word is seen\n",
    "    membership_counts = dict()\n",
    "    \n",
    "    #for each seed word\n",
    "    for word in seed_words:\n",
    "        #get most similar words\n",
    "        similar_words = full_text.similar_words(word, num_similar_words)\n",
    "        \n",
    "        #we don't want to see any seed words or words to omit in here\n",
    "        similar_words_limited = [s for s in similar_words if s not in seed_words and s not in words_to_omit]\n",
    "        \n",
    "        #add them to the dictionary\n",
    "        for s in similar_words_limited:\n",
    "            #weight this score by its position in the similarity list\n",
    "            weight = unit_fraction*(1/(similar_words_limited.index(s)+1))\n",
    "            if s in membership_counts:\n",
    "                membership_counts[s] += weight\n",
    "            else:\n",
    "                membership_counts[s] = weight\n",
    "                \n",
    "    if draw_graph:\n",
    "        create_cluster_chart(membership_counts, seed_words)\n",
    "    \n",
    "    #return the similar words, ordered by how many times they were found as matches to seed words\n",
    "    return sorted(membership_counts.items(), key = lambda item: -item[1])"
   ]
  },
  {
   "cell_type": "code",
   "execution_count": 266,
   "metadata": {},
   "outputs": [],
   "source": [
    "def create_cluster_chart(membership_counts, seed_words):\n",
    "    \"\"\"\n",
    "    Crate a bar chart for potential cluster members\n",
    "    \"\"\"\n",
    "    \n",
    "    plt.figure(figsize=(6,6))\n",
    "    \n",
    "    #get new top 5 suggested new members\n",
    "    new_members = sorted(membership_counts.items(), key = lambda item: -item[1])[:5]\n",
    "    new_members = new_members[::-1]\n",
    "    new_words = [item[0] for item in new_members]\n",
    "    \n",
    "    #get the scores\n",
    "    new_word_scores = [item[1] for item in new_members]\n",
    "    \n",
    "    #determine y positions\n",
    "    y_pos = np.arange(len(new_members))\n",
    "\n",
    "    #draw the bar chart\n",
    "    plt.barh(y_pos, new_word_scores, align='center')\n",
    "    plt.title('Additional Members for Seed Words:\\n%s'%seed_words, fontsize=16)\n",
    "    plt.yticks(y_pos, new_words, fontsize=14)\n",
    "    #plt.invert_yaxis()  # labels read top-to-bottom\n",
    "    plt.xlabel('Score')"
   ]
  },
  {
   "cell_type": "code",
   "execution_count": 267,
   "metadata": {},
   "outputs": [
    {
     "data": {
      "text/plain": [
       "[('lemon', 0.6666),\n",
       " ('sugar', 0.49995),\n",
       " ('lime', 0.27775),\n",
       " ('butter', 0.249975),\n",
       " ('onion', 0.11109999999999999),\n",
       " ('pineapple', 0.11109999999999999),\n",
       " ('water', 0.083325),\n",
       " ('vanilla', 0.083325),\n",
       " ('oil', 0.06666)]"
      ]
     },
     "execution_count": 267,
     "metadata": {},
     "output_type": "execute_result"
    },
    {
     "data": {
      "image/png": "[encoded data removed]",
      "text/plain": [
       "<Figure size 432x432 with 1 Axes>"
      ]
     },
     "metadata": {
      "needs_background": "light"
     },
     "output_type": "display_data"
    }
   ],
   "source": [
    "fruits = ['apple', 'banana', 'orange']\n",
    "get_additional_cluster_memebers(full_text, fruits, draw_graph=True)"
   ]
  },
  {
   "cell_type": "code",
   "execution_count": 268,
   "metadata": {},
   "outputs": [
    {
     "data": {
      "text/plain": [
       "[('butter', 0.6666),\n",
       " ('oil', 0.583275),\n",
       " ('water', 0.38885),\n",
       " ('cream', 0.194425),\n",
       " ('pepper', 0.16665),\n",
       " ('teaspoon', 0.083325),\n",
       " ('milk', 0.06666)]"
      ]
     },
     "execution_count": 268,
     "metadata": {},
     "output_type": "execute_result"
    },
    {
     "data": {
      "image/png": "[encoded data removed]",
      "text/plain": [
       "<Figure size 432x432 with 1 Axes>"
      ]
     },
     "metadata": {
      "needs_background": "light"
     },
     "output_type": "display_data"
    }
   ],
   "source": [
    "baking = ['flour', 'sugar', 'egg']\n",
    "get_additional_cluster_memebers(full_text, baking, draw_graph=True)"
   ]
  },
  {
   "cell_type": "code",
   "execution_count": 269,
   "metadata": {},
   "outputs": [
    {
     "data": {
      "text/plain": [
       "[('cup', 0.83325),\n",
       " ('ground', 0.3333),\n",
       " ('tablespoons', 0.27775),\n",
       " ('cups', 0.27775),\n",
       " ('teaspoons', 0.16665),\n",
       " ('pepper', 0.14998499999999998),\n",
       " ('salt', 0.11109999999999999)]"
      ]
     },
     "execution_count": 269,
     "metadata": {},
     "output_type": "execute_result"
    },
    {
     "data": {
      "image/png": "[encoded data removed]",
      "text/plain": [
       "<Figure size 432x432 with 1 Axes>"
      ]
     },
     "metadata": {
      "needs_background": "light"
     },
     "output_type": "display_data"
    }
   ],
   "source": [
    "measurements = ['tablespoon', 'teaspoon', 'ounce']\n",
    "get_additional_cluster_memebers(full_text, measurements, draw_graph=True)"
   ]
  },
  {
   "cell_type": "code",
   "execution_count": 270,
   "metadata": {},
   "outputs": [
    {
     "data": {
      "text/plain": [
       "[('cheddar', 0.9999),\n",
       " ('cream', 0.361075),\n",
       " ('mozzarella', 0.361075),\n",
       " ('sugar', 0.249975),\n",
       " ('chips', 0.11109999999999999),\n",
       " ('water', 0.06666),\n",
       " ('butter', 0.06666)]"
      ]
     },
     "execution_count": 270,
     "metadata": {},
     "output_type": "execute_result"
    },
    {
     "data": {
      "image/png": "[encoded data removed]",
      "text/plain": [
       "<Figure size 432x432 with 1 Axes>"
      ]
     },
     "metadata": {
      "needs_background": "light"
     },
     "output_type": "display_data"
    }
   ],
   "source": [
    "cheese = ['gouda', 'swiss', 'feta']\n",
    "get_additional_cluster_memebers(full_text, cheese, draw_graph=True)"
   ]
  },
  {
   "cell_type": "code",
   "execution_count": 271,
   "metadata": {},
   "outputs": [
    {
     "data": {
      "text/plain": [
       "[('ground', 1.0),\n",
       " ('vanilla', 0.3958333333333333),\n",
       " ('powder', 0.37499999999999994),\n",
       " ('soda', 0.1875),\n",
       " ('teaspoon', 0.125),\n",
       " ('sugar', 0.05)]"
      ]
     },
     "execution_count": 271,
     "metadata": {},
     "output_type": "execute_result"
    },
    {
     "data": {
      "image/png": "[encoded data removed]",
      "text/plain": [
       "<Figure size 432x432 with 1 Axes>"
      ]
     },
     "metadata": {
      "needs_background": "light"
     },
     "output_type": "display_data"
    }
   ],
   "source": [
    "spices = ['salt', 'pepper', 'cumin', 'cinnamon']\n",
    "get_additional_cluster_memebers(full_text, spices, draw_graph=True)"
   ]
  },
  {
   "cell_type": "code",
   "execution_count": 272,
   "metadata": {},
   "outputs": [
    {
     "data": {
      "text/plain": [
       "[('sugar', 0.6666),\n",
       " ('pepper', 0.6666),\n",
       " ('water', 0.249975),\n",
       " ('mushroom', 0.11109999999999999),\n",
       " ('butter', 0.11109999999999999),\n",
       " ('teaspoon', 0.11109999999999999),\n",
       " ('cream', 0.083325),\n",
       " ('ground', 0.083325),\n",
       " ('milk', 0.06666)]"
      ]
     },
     "execution_count": 272,
     "metadata": {},
     "output_type": "execute_result"
    },
    {
     "data": {
      "image/png": "[encoded data removed]",
      "text/plain": [
       "<Figure size 432x432 with 1 Axes>"
      ]
     },
     "metadata": {
      "needs_background": "light"
     },
     "output_type": "display_data"
    }
   ],
   "source": [
    "meat = ['chicken', 'beef', 'pork']\n",
    "get_additional_cluster_memebers(full_text, meat, draw_graph=True)"
   ]
  },
  {
   "cell_type": "markdown",
   "metadata": {},
   "source": [
    "### The \"meat\" cluster doesnt make too much sense; see experiment at the end for possible improvement"
   ]
  },
  {
   "cell_type": "code",
   "execution_count": 273,
   "metadata": {},
   "outputs": [
    {
     "data": {
      "text/plain": [
       "[('sugar', 0.75),\n",
       " ('butter', 0.3333333333333333),\n",
       " ('lemon', 0.25),\n",
       " ('water', 0.22916666666666663),\n",
       " ('onion', 0.125),\n",
       " ('cream', 0.125),\n",
       " ('lime', 0.125),\n",
       " ('apple', 0.08333333333333333),\n",
       " ('pineapple', 0.0625),\n",
       " ('juice', 0.05),\n",
       " ('vanilla', 0.05)]"
      ]
     },
     "execution_count": 273,
     "metadata": {},
     "output_type": "execute_result"
    },
    {
     "data": {
      "image/png": "[encoded data removed]",
      "text/plain": [
       "<Figure size 432x432 with 1 Axes>"
      ]
     },
     "metadata": {
      "needs_background": "light"
     },
     "output_type": "display_data"
    }
   ],
   "source": [
    "nonsense = ['eggplant', 'oil', 'ketchup', 'orange']\n",
    "get_additional_cluster_memebers(full_text, nonsense, draw_graph=True)"
   ]
  },
  {
   "cell_type": "markdown",
   "metadata": {},
   "source": [
    "### This last experiment was to see what happens if we put in nonsense words"
   ]
  },
  {
   "cell_type": "markdown",
   "metadata": {},
   "source": [
    "# Frequency Count of the Nouns"
   ]
  },
  {
   "cell_type": "code",
   "execution_count": 274,
   "metadata": {},
   "outputs": [],
   "source": [
    "noun_freqs = dict()\n",
    "for noun in nouns:\n",
    "    if noun in noun_freqs:\n",
    "        noun_freqs[noun] += 1\n",
    "    else:\n",
    "        noun_freqs[noun] = 1"
   ]
  },
  {
   "cell_type": "code",
   "execution_count": 275,
   "metadata": {},
   "outputs": [],
   "source": [
    "most_common_nouns = sorted(noun_freqs.items(), key=lambda item: -item[1])[:25]"
   ]
  },
  {
   "cell_type": "code",
   "execution_count": 276,
   "metadata": {},
   "outputs": [
    {
     "name": "stdout",
     "output_type": "stream",
     "text": [
      "Noun:  cup\n",
      "Count: 182696\n",
      "-----\n",
      "Noun:  teaspoon\n",
      "Count: 110666\n",
      "-----\n",
      "Noun:  cups\n",
      "Count: 83751\n",
      "-----\n",
      "Noun:  tablespoons\n",
      "Count: 80332\n",
      "-----\n",
      "Noun:  tablespoon\n",
      "Count: 46495\n",
      "-----\n",
      "Noun:  oil\n",
      "Count: 42652\n",
      "-----\n",
      "Noun:  sugar\n",
      "Count: 40074\n",
      "-----\n",
      "Noun:  pepper\n",
      "Count: 39468\n",
      "-----\n",
      "Noun:  teaspoons\n",
      "Count: 38453\n",
      "-----\n",
      "Noun:  ounce\n",
      "Count: 34650\n",
      "-----\n",
      "Noun:  ground\n",
      "Count: 32873\n",
      "-----\n",
      "Noun:  ounces\n",
      "Count: 30269\n",
      "-----\n",
      "Noun:  butter\n",
      "Count: 29125\n",
      "-----\n",
      "Noun:  onion\n",
      "Count: 27866\n",
      "-----\n",
      "Noun:  salt\n",
      "Count: 27769\n",
      "-----\n",
      "Noun:  water\n",
      "Count: 24431\n",
      "-----\n",
      "Noun:  cream\n",
      "Count: 23100\n",
      "-----\n",
      "Noun:  juice\n",
      "Count: 22117\n",
      "-----\n",
      "Noun:  cheese\n",
      "Count: 19590\n",
      "-----\n",
      "Noun:  tbsp\n",
      "Count: 19540\n",
      "-----\n",
      "Noun:  powder\n",
      "Count: 18914\n",
      "-----\n",
      "Noun:  milk\n",
      "Count: 18414\n",
      "-----\n",
      "Noun:  tsp\n",
      "Count: 17067\n",
      "-----\n",
      "Noun:  eggs\n",
      "Count: 16401\n",
      "-----\n",
      "Noun:  vanilla\n",
      "Count: 15871\n",
      "-----\n"
     ]
    }
   ],
   "source": [
    "for item in most_common_nouns:\n",
    "    print('Noun:  %s'%item[0])\n",
    "    print('Count: %s'%item[1])\n",
    "    print('-----')"
   ]
  },
  {
   "cell_type": "code",
   "execution_count": 277,
   "metadata": {},
   "outputs": [],
   "source": [
    "nouns_to_omit = [item[0] for item in most_common_nouns]"
   ]
  },
  {
   "cell_type": "markdown",
   "metadata": {},
   "source": [
    "## What if we make these top nouns off-limits?"
   ]
  },
  {
   "cell_type": "code",
   "execution_count": 278,
   "metadata": {},
   "outputs": [
    {
     "data": {
      "text/plain": [
       "[('coriander', 0.6666),\n",
       " ('mushroom', 0.3333),\n",
       " ('flour', 0.3333),\n",
       " ('cloves', 0.249975),\n",
       " ('skinless', 0.16665),\n",
       " ('wine', 0.1587142857142857),\n",
       " ('celery', 0.1481333333333333),\n",
       " ('onions', 0.138875),\n",
       " ('thru', 0.11109999999999999),\n",
       " ('rice', 0.09999),\n",
       " ('walnuts', 0.09999),\n",
       " ('pecans', 0.09258333333333332),\n",
       " ('egg', 0.09229846153846154),\n",
       " ('parsley', 0.07791428571428571),\n",
       " ('beans', 0.07142142857142855),\n",
       " ('cinnamon', 0.0694375),\n",
       " ('tomatoes', 0.06480833333333333),\n",
       " ('stock', 0.055549999999999995),\n",
       " ('mayonnaise', 0.0303),\n",
       " ('oats', 0.025638461538461537)]"
      ]
     },
     "execution_count": 278,
     "metadata": {},
     "output_type": "execute_result"
    },
    {
     "data": {
      "image/png": "[encoded data removed]",
      "text/plain": [
       "<Figure size 432x432 with 1 Axes>"
      ]
     },
     "metadata": {
      "needs_background": "light"
     },
     "output_type": "display_data"
    }
   ],
   "source": [
    "meat = ['chicken', 'beef', 'pork']\n",
    "get_additional_cluster_memebers(full_text, meat, nouns_to_omit, True)"
   ]
  },
  {
   "cell_type": "markdown",
   "metadata": {},
   "source": [
    "### In my opinion, the \"meat\" cluster now makes a bit more sense"
   ]
  },
  {
   "cell_type": "code",
   "execution_count": 279,
   "metadata": {},
   "outputs": [
    {
     "data": {
      "text/plain": [
       "[('cheddar', 0.9999),\n",
       " ('mozzarella', 0.49995),\n",
       " ('jack', 0.24441999999999997),\n",
       " ('flour', 0.194425),\n",
       " ('parmesan', 0.194425),\n",
       " ('goat', 0.1698242857142857),\n",
       " ('wine', 0.1309392857142857),\n",
       " ('chips', 0.11109999999999999),\n",
       " ('romano', 0.0976092857142857),\n",
       " ('walnuts', 0.07869583333333333),\n",
       " ('parsley', 0.06733333333333333),\n",
       " ('rice', 0.06730096153846153),\n",
       " ('pecans', 0.06666),\n",
       " ('kraft', 0.05786458333333333),\n",
       " ('mayonnaise', 0.054107142857142854),\n",
       " ('celery', 0.053413461538461535),\n",
       " ('onions', 0.04305125),\n",
       " ('pieces', 0.0416625),\n",
       " ('cottage', 0.03333),\n",
       " ('blend', 0.0303),\n",
       " ('provolone', 0.027774999999999998),\n",
       " ('ricotta', 0.025638461538461537),\n",
       " ('parmigiano-reggiano', 0.023807142857142853),\n",
       " ('cilantro', 0.023807142857142853),\n",
       " ('pecorino', 0.02222),\n",
       " ('chip', 0.02083125),\n",
       " ('morsels', 0.019605882352941174),\n",
       " ('honey', 0.019605882352941174),\n",
       " ('mascarpone', 0.018516666666666664),\n",
       " ('raisins', 0.018516666666666664),\n",
       " ('fontina', 0.017542105263157894),\n",
       " ('almonds', 0.017542105263157894),\n",
       " ('velveeta', 0.016665),\n",
       " ('margarine', 0.016665)]"
      ]
     },
     "execution_count": 279,
     "metadata": {},
     "output_type": "execute_result"
    },
    {
     "data": {
      "image/png": "[encoded data removed]",
      "text/plain": [
       "<Figure size 432x432 with 1 Axes>"
      ]
     },
     "metadata": {
      "needs_background": "light"
     },
     "output_type": "display_data"
    }
   ],
   "source": [
    "cheese = ['gouda', 'swiss', 'feta']\n",
    "get_additional_cluster_memebers(full_text, cheese, nouns_to_omit, True)"
   ]
  },
  {
   "cell_type": "markdown",
   "metadata": {},
   "source": [
    "### The \"cheese\" cluster also got a bit of improvement"
   ]
  },
  {
   "cell_type": "code",
   "execution_count": null,
   "metadata": {},
   "outputs": [],
   "source": []
  }
 ],
 "metadata": {
  "kernelspec": {
   "display_name": "Python 3",
   "language": "python",
   "name": "python3"
  },
  "language_info": {
   "codemirror_mode": {
    "name": "ipython",
    "version": 3
   },
   "file_extension": ".py",
   "mimetype": "text/x-python",
   "name": "python",
   "nbconvert_exporter": "python",
   "pygments_lexer": "ipython3",
   "version": "3.7.4"
  }
 },
 "nbformat": 4,
 "nbformat_minor": 2
}
